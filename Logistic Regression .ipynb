{
 "cells": [
  {
   "cell_type": "code",
   "execution_count": 1,
   "id": "b8d51338",
   "metadata": {},
   "outputs": [],
   "source": [
    "import numpy as np"
   ]
  },
  {
   "cell_type": "code",
   "execution_count": 2,
   "id": "5499cf99",
   "metadata": {},
   "outputs": [],
   "source": [
    "def weightInitialization(n_features):\n",
    "    w = 0.1*np.random.randn(1,n_features)-0.5\n",
    "    b = 0\n",
    "    return w.T,b"
   ]
  },
  {
   "cell_type": "code",
   "execution_count": 3,
   "id": "b01f6506",
   "metadata": {},
   "outputs": [
    {
     "data": {
      "text/plain": [
       "(2, 1)"
      ]
     },
     "execution_count": 3,
     "metadata": {},
     "output_type": "execute_result"
    }
   ],
   "source": [
    "w,b=weightInitialization(2)\n",
    "w.shape"
   ]
  },
  {
   "cell_type": "code",
   "execution_count": 8,
   "id": "a680dc04",
   "metadata": {},
   "outputs": [],
   "source": [
    "def sigmoid_activation(result):\n",
    "    final_result = 1/(1+np.exp(-result))\n",
    "    return final_result"
   ]
  },
  {
   "cell_type": "code",
   "execution_count": 9,
   "id": "676401c7",
   "metadata": {},
   "outputs": [
    {
     "data": {
      "text/plain": [
       "array([0.82635335, 0.76674106, 0.81305739])"
      ]
     },
     "execution_count": 9,
     "metadata": {},
     "output_type": "execute_result"
    }
   ],
   "source": [
    "sigmoid_activation(np.array([1.56,\n",
    "1.19,\n",
    "1.47,\n",
    "]))"
   ]
  },
  {
   "cell_type": "code",
   "execution_count": 10,
   "id": "f0a4ebb2",
   "metadata": {},
   "outputs": [],
   "source": [
    "def one_hotSGD(Y):\n",
    "    one_hot_Y = np.zeros((Y.size, Y.max()+1))\n",
    "    one_hot_Y[np.arange(Y.size), Y] = 1\n",
    "    one_hot_Y = one_hot_Y.T\n",
    "    return one_hot_Y"
   ]
  },
  {
   "cell_type": "code",
   "execution_count": 7,
   "id": "7c6f785a",
   "metadata": {},
   "outputs": [
    {
     "ename": "NameError",
     "evalue": "name 'Y' is not defined",
     "output_type": "error",
     "traceback": [
      "\u001b[1;31m---------------------------------------------------------------------------\u001b[0m",
      "\u001b[1;31mNameError\u001b[0m                                 Traceback (most recent call last)",
      "\u001b[1;32m~\\AppData\\Local\\Temp/ipykernel_8928/2595315324.py\u001b[0m in \u001b[0;36m<module>\u001b[1;34m\u001b[0m\n\u001b[1;32m----> 1\u001b[1;33m \u001b[0mone_hotSGD\u001b[0m\u001b[1;33m(\u001b[0m\u001b[0mY\u001b[0m\u001b[1;33m)\u001b[0m\u001b[1;33m\u001b[0m\u001b[1;33m\u001b[0m\u001b[0m\n\u001b[0m",
      "\u001b[1;31mNameError\u001b[0m: name 'Y' is not defined"
     ]
    }
   ],
   "source": [
    "one_hotSGD(Y)"
   ]
  },
  {
   "cell_type": "code",
   "execution_count": 32,
   "id": "5fc9cb19",
   "metadata": {},
   "outputs": [],
   "source": [
    "def model_predict(X, Y, learning_rate, no_iterations):\n",
    "    w = (0.1*np.random.randn(2,X.shape[0])-0.5)\n",
    "    print('Random ws',w)\n",
    "    b = 0.5\n",
    "    m = X.shape[1]\n",
    "    costs = []\n",
    "    for i in range(no_iterations):\n",
    "       \n",
    "        #Prediction \n",
    "        #(1,2)(2,2)\n",
    "        out=np.dot(w,X)+b\n",
    "        print('out:',out)\n",
    "        #(3,2)\n",
    "        final_result = sigmoid_activation(out)\n",
    "        print('act:',final_result)\n",
    "        Y_T =Y\n",
    "        cost = (-1/m)*(np.sum((Y_T*np.log(final_result)) + ((1-Y_T)*(np.log(1-final_result)))))\n",
    "        print('cost',cost)\n",
    "        #Gradient calculation\n",
    "        diff=final_result-Y_T\n",
    "        print('diff:',diff)\n",
    "        #(3,2)(2,2)\n",
    "        dw = (1/m)*(np.dot(diff,X.T))\n",
    "        db = (1/m)*(np.sum(diff).T)\n",
    "        print('dw:',dw,'db:',db)\n",
    "        #weight update\n",
    "        w = w - (learning_rate * (dw))\n",
    "        b = b - (learning_rate * db)\n",
    "        print('new w:',w,'new b:',b)\n",
    "        #\n",
    "        \n",
    "        #if (i % 50 == 0):\n",
    "           # print(cost)\n",
    "    \n",
    "    \n",
    "    return w, b, costs"
   ]
  },
  {
   "cell_type": "code",
   "execution_count": 33,
   "id": "0e1e9961",
   "metadata": {},
   "outputs": [
    {
     "name": "stdout",
     "output_type": "stream",
     "text": [
      "Random ws [[-0.61105875 -0.18586038]\n",
      " [-0.53500706 -0.45201076]]\n",
      "out: [[-0.70072646 -0.63427282 -0.89728236]\n",
      " [-0.8984242  -0.92702602 -1.18622992]]\n",
      "act: [[0.33165118 0.34654232 0.28960929]\n",
      " [0.28937443 0.28352846 0.23393389]]\n",
      "cost 1.2370088576593272\n",
      "diff: [[-0.66834882  0.34654232  0.28960929]\n",
      " [-0.71062557  0.28352846  0.23393389]]\n",
      "dw: [[-0.02096738  0.06038992]\n",
      " [-0.10632669 -0.01772126]] db: -0.07512014104498968\n",
      "new w: [[-0.61084908 -0.18646428]\n",
      " [-0.53394379 -0.45183355]] new b: 0.5007512014104499\n",
      "out: [[-0.70036446 -0.63413393 -0.89711998]\n",
      " [-0.89575912 -0.92452043 -1.1832813 ]]\n",
      "act: [[0.33173143 0.34657377 0.2896427 ]\n",
      " [0.28992278 0.28403772 0.23446272]]\n",
      "cost 1.2367960899322865\n",
      "diff: [[-0.66826857  0.34657377  0.2896427 ]\n",
      " [-0.71007722  0.28403772  0.23446272]]\n",
      "dw: [[-0.02088986  0.06045557]\n",
      " [-0.10547928 -0.01696524]] db: -0.0745429578192638\n",
      "new w: [[-0.61064018 -0.18706883]\n",
      " [-0.532889   -0.4516639 ]] new b: 0.5014966309886426\n"
     ]
    }
   ],
   "source": [
    "w, b, costs= model_predict(X, Y, 0.01, 2)"
   ]
  },
  {
   "cell_type": "code",
   "execution_count": 34,
   "id": "5968d22f",
   "metadata": {},
   "outputs": [
    {
     "data": {
      "text/plain": [
       "(2, 2)"
      ]
     },
     "execution_count": 34,
     "metadata": {},
     "output_type": "execute_result"
    }
   ],
   "source": [
    "w.shape"
   ]
  },
  {
   "cell_type": "code",
   "execution_count": 10,
   "id": "cf70ed3b",
   "metadata": {},
   "outputs": [],
   "source": [
    "def predict(final_pred, m):\n",
    "    y_pred = np.zeros((1,m))\n",
    "    for i in range(final_pred.shape[1]):\n",
    "        if final_pred[0][i] > 0.5:\n",
    "            y_pred[0][i] = 1\n",
    "    return y_pred"
   ]
  },
  {
   "cell_type": "code",
   "execution_count": 24,
   "id": "3f48cb65",
   "metadata": {},
   "outputs": [
    {
     "data": {
      "text/plain": [
       "array([[1.6, 1.4, 1.8],\n",
       "       [1.2, 1.5, 1.6]])"
      ]
     },
     "execution_count": 24,
     "metadata": {},
     "output_type": "execute_result"
    }
   ],
   "source": [
    "X= np.array([\n",
    "    [1.6,1.2],\n",
    "    [1.4 ,1.5],\n",
    "    [1.8, 1.6],\n",
    "    \n",
    "]).T\n",
    "X"
   ]
  },
  {
   "cell_type": "code",
   "execution_count": 25,
   "id": "a2ea2251",
   "metadata": {},
   "outputs": [
    {
     "data": {
      "text/plain": [
       "array([1, 0, 0])"
      ]
     },
     "execution_count": 25,
     "metadata": {},
     "output_type": "execute_result"
    }
   ],
   "source": [
    "Y=np.array([1,0,0]).T\n",
    "Y"
   ]
  },
  {
   "cell_type": "code",
   "execution_count": null,
   "id": "b55696b6",
   "metadata": {},
   "outputs": [],
   "source": []
  },
  {
   "cell_type": "code",
   "execution_count": null,
   "id": "44e1fc5a",
   "metadata": {},
   "outputs": [],
   "source": []
  }
 ],
 "metadata": {
  "kernelspec": {
   "display_name": "Python 3 (ipykernel)",
   "language": "python",
   "name": "python3"
  },
  "language_info": {
   "codemirror_mode": {
    "name": "ipython",
    "version": 3
   },
   "file_extension": ".py",
   "mimetype": "text/x-python",
   "name": "python",
   "nbconvert_exporter": "python",
   "pygments_lexer": "ipython3",
   "version": "3.9.7"
  },
  "varInspector": {
   "cols": {
    "lenName": 16,
    "lenType": 16,
    "lenVar": 40
   },
   "kernels_config": {
    "python": {
     "delete_cmd_postfix": "",
     "delete_cmd_prefix": "del ",
     "library": "var_list.py",
     "varRefreshCmd": "print(var_dic_list())"
    },
    "r": {
     "delete_cmd_postfix": ") ",
     "delete_cmd_prefix": "rm(",
     "library": "var_list.r",
     "varRefreshCmd": "cat(var_dic_list()) "
    }
   },
   "types_to_exclude": [
    "module",
    "function",
    "builtin_function_or_method",
    "instance",
    "_Feature"
   ],
   "window_display": false
  }
 },
 "nbformat": 4,
 "nbformat_minor": 5
}
